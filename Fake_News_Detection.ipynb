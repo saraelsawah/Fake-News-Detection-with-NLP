{
 "cells": [
  {
   "cell_type": "markdown",
   "id": "445513d5",
   "metadata": {},
   "source": [
    "# 📰 Fake News Detection\n",
    "This notebook demonstrates how to classify news articles as real or fake using Natural Language Processing (NLP)."
   ]
  },
  {
   "cell_type": "code",
   "execution_count": null,
   "id": "1ad66b4e",
   "metadata": {},
   "outputs": [],
   "source": [
    "\n",
    "import pandas as pd\n",
    "from sklearn.model_selection import train_test_split\n",
    "from sklearn.feature_extraction.text import TfidfVectorizer\n",
    "from sklearn.naive_bayes import MultinomialNB\n",
    "from sklearn.metrics import classification_report\n"
   ]
  },
  {
   "cell_type": "code",
   "execution_count": null,
   "id": "c423c83d",
   "metadata": {},
   "outputs": [],
   "source": [
    "\n",
    "# Example dataset (replace with a larger dataset if available)\n",
    "data = {\n",
    "    'text': [\n",
    "        \"Breaking news: Scientists discover water on Mars\",\n",
    "        \"Shocking! Celebrity endorses miracle weight loss pill\",\n",
    "        \"Elections results are officially announced\",\n",
    "        \"Government secretly controls the weather\"\n",
    "    ],\n",
    "    'label': [1, 0, 1, 0]  # 1 = Real, 0 = Fake\n",
    "}\n",
    "\n",
    "df = pd.DataFrame(data)\n",
    "df\n"
   ]
  },
  {
   "cell_type": "code",
   "execution_count": null,
   "id": "fa00ae8e",
   "metadata": {},
   "outputs": [],
   "source": [
    "\n",
    "# Split dataset\n",
    "X_train, X_test, y_train, y_test = train_test_split(df['text'], df['label'], test_size=0.25, random_state=42)\n"
   ]
  },
  {
   "cell_type": "code",
   "execution_count": null,
   "id": "00a5acca",
   "metadata": {},
   "outputs": [],
   "source": [
    "\n",
    "# Convert text into numerical features using TF-IDF\n",
    "vectorizer = TfidfVectorizer(stop_words='english')\n",
    "X_train_tfidf = vectorizer.fit_transform(X_train)\n",
    "X_test_tfidf = vectorizer.transform(X_test)\n"
   ]
  },
  {
   "cell_type": "code",
   "execution_count": null,
   "id": "4db8c3ce",
   "metadata": {},
   "outputs": [],
   "source": [
    "\n",
    "# Train Naive Bayes model\n",
    "model = MultinomialNB()\n",
    "model.fit(X_train_tfidf, y_train)\n"
   ]
  },
  {
   "cell_type": "code",
   "execution_count": null,
   "id": "71483186",
   "metadata": {},
   "outputs": [],
   "source": [
    "\n",
    "# Predict and evaluate\n",
    "y_pred = model.predict(X_test_tfidf)\n",
    "print(\"Classification Report:\")\n",
    "print(classification_report(y_test, y_pred))\n"
   ]
  }
 ],
 "metadata": {},
 "nbformat": 4,
 "nbformat_minor": 5
}